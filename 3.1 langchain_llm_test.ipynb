{
 "cells": [
  {
   "cell_type": "code",
   "execution_count": 10,
   "metadata": {},
   "outputs": [
    {
     "name": "stdout",
     "output_type": "stream",
     "text": [
      "Requirement already satisfied: langchain-openai in /Users/heyjohnis/anaconda3/lib/python3.11/site-packages (0.2.14)\n",
      "Requirement already satisfied: langchain-core<0.4.0,>=0.3.27 in /Users/heyjohnis/anaconda3/lib/python3.11/site-packages (from langchain-openai) (0.3.28)\n",
      "Requirement already satisfied: openai<2.0.0,>=1.58.1 in /Users/heyjohnis/anaconda3/lib/python3.11/site-packages (from langchain-openai) (1.58.1)\n",
      "Requirement already satisfied: tiktoken<1,>=0.7 in /Users/heyjohnis/anaconda3/lib/python3.11/site-packages (from langchain-openai) (0.8.0)\n",
      "Requirement already satisfied: PyYAML>=5.3 in /Users/heyjohnis/anaconda3/lib/python3.11/site-packages (from langchain-core<0.4.0,>=0.3.27->langchain-openai) (6.0)\n",
      "Requirement already satisfied: jsonpatch<2.0,>=1.33 in /Users/heyjohnis/anaconda3/lib/python3.11/site-packages (from langchain-core<0.4.0,>=0.3.27->langchain-openai) (1.33)\n",
      "Requirement already satisfied: langsmith<0.3,>=0.1.125 in /Users/heyjohnis/anaconda3/lib/python3.11/site-packages (from langchain-core<0.4.0,>=0.3.27->langchain-openai) (0.2.4)\n",
      "Requirement already satisfied: packaging<25,>=23.2 in /Users/heyjohnis/anaconda3/lib/python3.11/site-packages (from langchain-core<0.4.0,>=0.3.27->langchain-openai) (24.2)\n",
      "Requirement already satisfied: pydantic<3.0.0,>=2.5.2 in /Users/heyjohnis/anaconda3/lib/python3.11/site-packages (from langchain-core<0.4.0,>=0.3.27->langchain-openai) (2.10.4)\n",
      "Requirement already satisfied: tenacity!=8.4.0,<10.0.0,>=8.1.0 in /Users/heyjohnis/anaconda3/lib/python3.11/site-packages (from langchain-core<0.4.0,>=0.3.27->langchain-openai) (9.0.0)\n",
      "Requirement already satisfied: typing-extensions>=4.7 in /Users/heyjohnis/anaconda3/lib/python3.11/site-packages (from langchain-core<0.4.0,>=0.3.27->langchain-openai) (4.12.2)\n",
      "Requirement already satisfied: anyio<5,>=3.5.0 in /Users/heyjohnis/anaconda3/lib/python3.11/site-packages (from openai<2.0.0,>=1.58.1->langchain-openai) (3.5.0)\n",
      "Requirement already satisfied: distro<2,>=1.7.0 in /Users/heyjohnis/anaconda3/lib/python3.11/site-packages (from openai<2.0.0,>=1.58.1->langchain-openai) (1.9.0)\n",
      "Requirement already satisfied: httpx<1,>=0.23.0 in /Users/heyjohnis/anaconda3/lib/python3.11/site-packages (from openai<2.0.0,>=1.58.1->langchain-openai) (0.28.1)\n",
      "Requirement already satisfied: jiter<1,>=0.4.0 in /Users/heyjohnis/anaconda3/lib/python3.11/site-packages (from openai<2.0.0,>=1.58.1->langchain-openai) (0.8.2)\n",
      "Requirement already satisfied: sniffio in /Users/heyjohnis/anaconda3/lib/python3.11/site-packages (from openai<2.0.0,>=1.58.1->langchain-openai) (1.2.0)\n",
      "Requirement already satisfied: tqdm>4 in /Users/heyjohnis/anaconda3/lib/python3.11/site-packages (from openai<2.0.0,>=1.58.1->langchain-openai) (4.65.0)\n",
      "Requirement already satisfied: regex>=2022.1.18 in /Users/heyjohnis/anaconda3/lib/python3.11/site-packages (from tiktoken<1,>=0.7->langchain-openai) (2022.7.9)\n",
      "Requirement already satisfied: requests>=2.26.0 in /Users/heyjohnis/anaconda3/lib/python3.11/site-packages (from tiktoken<1,>=0.7->langchain-openai) (2.31.0)\n",
      "Requirement already satisfied: idna>=2.8 in /Users/heyjohnis/anaconda3/lib/python3.11/site-packages (from anyio<5,>=3.5.0->openai<2.0.0,>=1.58.1->langchain-openai) (3.4)\n",
      "Requirement already satisfied: certifi in /Users/heyjohnis/anaconda3/lib/python3.11/site-packages (from httpx<1,>=0.23.0->openai<2.0.0,>=1.58.1->langchain-openai) (2023.7.22)\n",
      "Requirement already satisfied: httpcore==1.* in /Users/heyjohnis/anaconda3/lib/python3.11/site-packages (from httpx<1,>=0.23.0->openai<2.0.0,>=1.58.1->langchain-openai) (1.0.7)\n",
      "Requirement already satisfied: h11<0.15,>=0.13 in /Users/heyjohnis/anaconda3/lib/python3.11/site-packages (from httpcore==1.*->httpx<1,>=0.23.0->openai<2.0.0,>=1.58.1->langchain-openai) (0.14.0)\n",
      "Requirement already satisfied: jsonpointer>=1.9 in /Users/heyjohnis/anaconda3/lib/python3.11/site-packages (from jsonpatch<2.0,>=1.33->langchain-core<0.4.0,>=0.3.27->langchain-openai) (2.1)\n",
      "Requirement already satisfied: orjson<4.0.0,>=3.9.14 in /Users/heyjohnis/anaconda3/lib/python3.11/site-packages (from langsmith<0.3,>=0.1.125->langchain-core<0.4.0,>=0.3.27->langchain-openai) (3.10.12)\n",
      "Requirement already satisfied: requests-toolbelt<2.0.0,>=1.0.0 in /Users/heyjohnis/anaconda3/lib/python3.11/site-packages (from langsmith<0.3,>=0.1.125->langchain-core<0.4.0,>=0.3.27->langchain-openai) (1.0.0)\n",
      "Requirement already satisfied: annotated-types>=0.6.0 in /Users/heyjohnis/anaconda3/lib/python3.11/site-packages (from pydantic<3.0.0,>=2.5.2->langchain-core<0.4.0,>=0.3.27->langchain-openai) (0.7.0)\n",
      "Requirement already satisfied: pydantic-core==2.27.2 in /Users/heyjohnis/anaconda3/lib/python3.11/site-packages (from pydantic<3.0.0,>=2.5.2->langchain-core<0.4.0,>=0.3.27->langchain-openai) (2.27.2)\n",
      "Requirement already satisfied: charset-normalizer<4,>=2 in /Users/heyjohnis/anaconda3/lib/python3.11/site-packages (from requests>=2.26.0->tiktoken<1,>=0.7->langchain-openai) (2.0.4)\n",
      "Requirement already satisfied: urllib3<3,>=1.21.1 in /Users/heyjohnis/anaconda3/lib/python3.11/site-packages (from requests>=2.26.0->tiktoken<1,>=0.7->langchain-openai) (2.3.0)\n",
      "Note: you may need to restart the kernel to use updated packages.\n",
      "Requirement already satisfied: python-dotenv in /Users/heyjohnis/anaconda3/lib/python3.11/site-packages (1.0.1)\n",
      "Requirement already satisfied: langchain-upstage in /Users/heyjohnis/anaconda3/lib/python3.11/site-packages (0.4.0)\n",
      "Requirement already satisfied: langchain-core<0.4,>=0.3.0 in /Users/heyjohnis/anaconda3/lib/python3.11/site-packages (from langchain-upstage) (0.3.28)\n",
      "Requirement already satisfied: langchain-openai<0.3,>=0.2 in /Users/heyjohnis/anaconda3/lib/python3.11/site-packages (from langchain-upstage) (0.2.14)\n",
      "Requirement already satisfied: pypdf<5.0.0,>=4.2.0 in /Users/heyjohnis/anaconda3/lib/python3.11/site-packages (from langchain-upstage) (4.3.1)\n",
      "Requirement already satisfied: requests<3.0.0,>=2.31.0 in /Users/heyjohnis/anaconda3/lib/python3.11/site-packages (from langchain-upstage) (2.31.0)\n",
      "Requirement already satisfied: tokenizers<0.20.0,>=0.19.1 in /Users/heyjohnis/anaconda3/lib/python3.11/site-packages (from langchain-upstage) (0.19.1)\n",
      "Requirement already satisfied: PyYAML>=5.3 in /Users/heyjohnis/anaconda3/lib/python3.11/site-packages (from langchain-core<0.4,>=0.3.0->langchain-upstage) (6.0)\n",
      "Requirement already satisfied: jsonpatch<2.0,>=1.33 in /Users/heyjohnis/anaconda3/lib/python3.11/site-packages (from langchain-core<0.4,>=0.3.0->langchain-upstage) (1.33)\n",
      "Requirement already satisfied: langsmith<0.3,>=0.1.125 in /Users/heyjohnis/anaconda3/lib/python3.11/site-packages (from langchain-core<0.4,>=0.3.0->langchain-upstage) (0.2.4)\n",
      "Requirement already satisfied: packaging<25,>=23.2 in /Users/heyjohnis/anaconda3/lib/python3.11/site-packages (from langchain-core<0.4,>=0.3.0->langchain-upstage) (24.2)\n",
      "Requirement already satisfied: pydantic<3.0.0,>=2.5.2 in /Users/heyjohnis/anaconda3/lib/python3.11/site-packages (from langchain-core<0.4,>=0.3.0->langchain-upstage) (2.10.4)\n",
      "Requirement already satisfied: tenacity!=8.4.0,<10.0.0,>=8.1.0 in /Users/heyjohnis/anaconda3/lib/python3.11/site-packages (from langchain-core<0.4,>=0.3.0->langchain-upstage) (9.0.0)\n",
      "Requirement already satisfied: typing-extensions>=4.7 in /Users/heyjohnis/anaconda3/lib/python3.11/site-packages (from langchain-core<0.4,>=0.3.0->langchain-upstage) (4.12.2)\n",
      "Requirement already satisfied: openai<2.0.0,>=1.58.1 in /Users/heyjohnis/anaconda3/lib/python3.11/site-packages (from langchain-openai<0.3,>=0.2->langchain-upstage) (1.58.1)\n",
      "Requirement already satisfied: tiktoken<1,>=0.7 in /Users/heyjohnis/anaconda3/lib/python3.11/site-packages (from langchain-openai<0.3,>=0.2->langchain-upstage) (0.8.0)\n",
      "Requirement already satisfied: charset-normalizer<4,>=2 in /Users/heyjohnis/anaconda3/lib/python3.11/site-packages (from requests<3.0.0,>=2.31.0->langchain-upstage) (2.0.4)\n",
      "Requirement already satisfied: idna<4,>=2.5 in /Users/heyjohnis/anaconda3/lib/python3.11/site-packages (from requests<3.0.0,>=2.31.0->langchain-upstage) (3.4)\n",
      "Requirement already satisfied: urllib3<3,>=1.21.1 in /Users/heyjohnis/anaconda3/lib/python3.11/site-packages (from requests<3.0.0,>=2.31.0->langchain-upstage) (2.3.0)\n",
      "Requirement already satisfied: certifi>=2017.4.17 in /Users/heyjohnis/anaconda3/lib/python3.11/site-packages (from requests<3.0.0,>=2.31.0->langchain-upstage) (2023.7.22)\n",
      "Requirement already satisfied: huggingface-hub<1.0,>=0.16.4 in /Users/heyjohnis/anaconda3/lib/python3.11/site-packages (from tokenizers<0.20.0,>=0.19.1->langchain-upstage) (0.27.0)\n",
      "Requirement already satisfied: filelock in /Users/heyjohnis/anaconda3/lib/python3.11/site-packages (from huggingface-hub<1.0,>=0.16.4->tokenizers<0.20.0,>=0.19.1->langchain-upstage) (3.9.0)\n",
      "Requirement already satisfied: fsspec>=2023.5.0 in /Users/heyjohnis/anaconda3/lib/python3.11/site-packages (from huggingface-hub<1.0,>=0.16.4->tokenizers<0.20.0,>=0.19.1->langchain-upstage) (2024.12.0)\n",
      "Requirement already satisfied: tqdm>=4.42.1 in /Users/heyjohnis/anaconda3/lib/python3.11/site-packages (from huggingface-hub<1.0,>=0.16.4->tokenizers<0.20.0,>=0.19.1->langchain-upstage) (4.65.0)\n",
      "Requirement already satisfied: jsonpointer>=1.9 in /Users/heyjohnis/anaconda3/lib/python3.11/site-packages (from jsonpatch<2.0,>=1.33->langchain-core<0.4,>=0.3.0->langchain-upstage) (2.1)\n",
      "Requirement already satisfied: httpx<1,>=0.23.0 in /Users/heyjohnis/anaconda3/lib/python3.11/site-packages (from langsmith<0.3,>=0.1.125->langchain-core<0.4,>=0.3.0->langchain-upstage) (0.28.1)\n",
      "Requirement already satisfied: orjson<4.0.0,>=3.9.14 in /Users/heyjohnis/anaconda3/lib/python3.11/site-packages (from langsmith<0.3,>=0.1.125->langchain-core<0.4,>=0.3.0->langchain-upstage) (3.10.12)\n",
      "Requirement already satisfied: requests-toolbelt<2.0.0,>=1.0.0 in /Users/heyjohnis/anaconda3/lib/python3.11/site-packages (from langsmith<0.3,>=0.1.125->langchain-core<0.4,>=0.3.0->langchain-upstage) (1.0.0)\n",
      "Requirement already satisfied: anyio<5,>=3.5.0 in /Users/heyjohnis/anaconda3/lib/python3.11/site-packages (from openai<2.0.0,>=1.58.1->langchain-openai<0.3,>=0.2->langchain-upstage) (3.5.0)\n",
      "Requirement already satisfied: distro<2,>=1.7.0 in /Users/heyjohnis/anaconda3/lib/python3.11/site-packages (from openai<2.0.0,>=1.58.1->langchain-openai<0.3,>=0.2->langchain-upstage) (1.9.0)\n",
      "Requirement already satisfied: jiter<1,>=0.4.0 in /Users/heyjohnis/anaconda3/lib/python3.11/site-packages (from openai<2.0.0,>=1.58.1->langchain-openai<0.3,>=0.2->langchain-upstage) (0.8.2)\n",
      "Requirement already satisfied: sniffio in /Users/heyjohnis/anaconda3/lib/python3.11/site-packages (from openai<2.0.0,>=1.58.1->langchain-openai<0.3,>=0.2->langchain-upstage) (1.2.0)\n",
      "Requirement already satisfied: annotated-types>=0.6.0 in /Users/heyjohnis/anaconda3/lib/python3.11/site-packages (from pydantic<3.0.0,>=2.5.2->langchain-core<0.4,>=0.3.0->langchain-upstage) (0.7.0)\n",
      "Requirement already satisfied: pydantic-core==2.27.2 in /Users/heyjohnis/anaconda3/lib/python3.11/site-packages (from pydantic<3.0.0,>=2.5.2->langchain-core<0.4,>=0.3.0->langchain-upstage) (2.27.2)\n",
      "Requirement already satisfied: regex>=2022.1.18 in /Users/heyjohnis/anaconda3/lib/python3.11/site-packages (from tiktoken<1,>=0.7->langchain-openai<0.3,>=0.2->langchain-upstage) (2022.7.9)\n",
      "Requirement already satisfied: httpcore==1.* in /Users/heyjohnis/anaconda3/lib/python3.11/site-packages (from httpx<1,>=0.23.0->langsmith<0.3,>=0.1.125->langchain-core<0.4,>=0.3.0->langchain-upstage) (1.0.7)\n",
      "Requirement already satisfied: h11<0.15,>=0.13 in /Users/heyjohnis/anaconda3/lib/python3.11/site-packages (from httpcore==1.*->httpx<1,>=0.23.0->langsmith<0.3,>=0.1.125->langchain-core<0.4,>=0.3.0->langchain-upstage) (0.14.0)\n",
      "Note: you may need to restart the kernel to use updated packages.\n",
      "Requirement already satisfied: langchain-community in /Users/heyjohnis/anaconda3/lib/python3.11/site-packages (0.3.13)\n",
      "Requirement already satisfied: PyYAML>=5.3 in /Users/heyjohnis/anaconda3/lib/python3.11/site-packages (from langchain-community) (6.0)\n",
      "Requirement already satisfied: SQLAlchemy<3,>=1.4 in /Users/heyjohnis/anaconda3/lib/python3.11/site-packages (from langchain-community) (1.4.39)\n",
      "Requirement already satisfied: aiohttp<4.0.0,>=3.8.3 in /Users/heyjohnis/anaconda3/lib/python3.11/site-packages (from langchain-community) (3.8.3)\n",
      "Requirement already satisfied: dataclasses-json<0.7,>=0.5.7 in /Users/heyjohnis/anaconda3/lib/python3.11/site-packages (from langchain-community) (0.6.7)\n",
      "Requirement already satisfied: httpx-sse<0.5.0,>=0.4.0 in /Users/heyjohnis/anaconda3/lib/python3.11/site-packages (from langchain-community) (0.4.0)\n",
      "Requirement already satisfied: langchain<0.4.0,>=0.3.13 in /Users/heyjohnis/anaconda3/lib/python3.11/site-packages (from langchain-community) (0.3.13)\n",
      "Requirement already satisfied: langchain-core<0.4.0,>=0.3.27 in /Users/heyjohnis/anaconda3/lib/python3.11/site-packages (from langchain-community) (0.3.28)\n",
      "Requirement already satisfied: langsmith<0.3,>=0.1.125 in /Users/heyjohnis/anaconda3/lib/python3.11/site-packages (from langchain-community) (0.2.4)\n",
      "Requirement already satisfied: numpy<2,>=1.22.4 in /Users/heyjohnis/anaconda3/lib/python3.11/site-packages (from langchain-community) (1.24.3)\n",
      "Requirement already satisfied: pydantic-settings<3.0.0,>=2.4.0 in /Users/heyjohnis/anaconda3/lib/python3.11/site-packages (from langchain-community) (2.7.0)\n",
      "Requirement already satisfied: requests<3,>=2 in /Users/heyjohnis/anaconda3/lib/python3.11/site-packages (from langchain-community) (2.31.0)\n",
      "Requirement already satisfied: tenacity!=8.4.0,<10,>=8.1.0 in /Users/heyjohnis/anaconda3/lib/python3.11/site-packages (from langchain-community) (9.0.0)\n",
      "Requirement already satisfied: attrs>=17.3.0 in /Users/heyjohnis/anaconda3/lib/python3.11/site-packages (from aiohttp<4.0.0,>=3.8.3->langchain-community) (22.1.0)\n",
      "Requirement already satisfied: charset-normalizer<3.0,>=2.0 in /Users/heyjohnis/anaconda3/lib/python3.11/site-packages (from aiohttp<4.0.0,>=3.8.3->langchain-community) (2.0.4)\n",
      "Requirement already satisfied: multidict<7.0,>=4.5 in /Users/heyjohnis/anaconda3/lib/python3.11/site-packages (from aiohttp<4.0.0,>=3.8.3->langchain-community) (6.0.2)\n",
      "Requirement already satisfied: async-timeout<5.0,>=4.0.0a3 in /Users/heyjohnis/anaconda3/lib/python3.11/site-packages (from aiohttp<4.0.0,>=3.8.3->langchain-community) (4.0.2)\n",
      "Requirement already satisfied: yarl<2.0,>=1.0 in /Users/heyjohnis/anaconda3/lib/python3.11/site-packages (from aiohttp<4.0.0,>=3.8.3->langchain-community) (1.8.1)\n",
      "Requirement already satisfied: frozenlist>=1.1.1 in /Users/heyjohnis/anaconda3/lib/python3.11/site-packages (from aiohttp<4.0.0,>=3.8.3->langchain-community) (1.3.3)\n",
      "Requirement already satisfied: aiosignal>=1.1.2 in /Users/heyjohnis/anaconda3/lib/python3.11/site-packages (from aiohttp<4.0.0,>=3.8.3->langchain-community) (1.2.0)\n",
      "Requirement already satisfied: marshmallow<4.0.0,>=3.18.0 in /Users/heyjohnis/anaconda3/lib/python3.11/site-packages (from dataclasses-json<0.7,>=0.5.7->langchain-community) (3.23.2)\n",
      "Requirement already satisfied: typing-inspect<1,>=0.4.0 in /Users/heyjohnis/anaconda3/lib/python3.11/site-packages (from dataclasses-json<0.7,>=0.5.7->langchain-community) (0.9.0)\n",
      "Requirement already satisfied: langchain-text-splitters<0.4.0,>=0.3.3 in /Users/heyjohnis/anaconda3/lib/python3.11/site-packages (from langchain<0.4.0,>=0.3.13->langchain-community) (0.3.4)\n",
      "Requirement already satisfied: pydantic<3.0.0,>=2.7.4 in /Users/heyjohnis/anaconda3/lib/python3.11/site-packages (from langchain<0.4.0,>=0.3.13->langchain-community) (2.10.4)\n",
      "Requirement already satisfied: jsonpatch<2.0,>=1.33 in /Users/heyjohnis/anaconda3/lib/python3.11/site-packages (from langchain-core<0.4.0,>=0.3.27->langchain-community) (1.33)\n",
      "Requirement already satisfied: packaging<25,>=23.2 in /Users/heyjohnis/anaconda3/lib/python3.11/site-packages (from langchain-core<0.4.0,>=0.3.27->langchain-community) (24.2)\n",
      "Requirement already satisfied: typing-extensions>=4.7 in /Users/heyjohnis/anaconda3/lib/python3.11/site-packages (from langchain-core<0.4.0,>=0.3.27->langchain-community) (4.12.2)\n",
      "Requirement already satisfied: httpx<1,>=0.23.0 in /Users/heyjohnis/anaconda3/lib/python3.11/site-packages (from langsmith<0.3,>=0.1.125->langchain-community) (0.28.1)\n",
      "Requirement already satisfied: orjson<4.0.0,>=3.9.14 in /Users/heyjohnis/anaconda3/lib/python3.11/site-packages (from langsmith<0.3,>=0.1.125->langchain-community) (3.10.12)\n",
      "Requirement already satisfied: requests-toolbelt<2.0.0,>=1.0.0 in /Users/heyjohnis/anaconda3/lib/python3.11/site-packages (from langsmith<0.3,>=0.1.125->langchain-community) (1.0.0)\n",
      "Requirement already satisfied: python-dotenv>=0.21.0 in /Users/heyjohnis/anaconda3/lib/python3.11/site-packages (from pydantic-settings<3.0.0,>=2.4.0->langchain-community) (1.0.1)\n",
      "Requirement already satisfied: idna<4,>=2.5 in /Users/heyjohnis/anaconda3/lib/python3.11/site-packages (from requests<3,>=2->langchain-community) (3.4)\n",
      "Requirement already satisfied: urllib3<3,>=1.21.1 in /Users/heyjohnis/anaconda3/lib/python3.11/site-packages (from requests<3,>=2->langchain-community) (2.3.0)\n",
      "Requirement already satisfied: certifi>=2017.4.17 in /Users/heyjohnis/anaconda3/lib/python3.11/site-packages (from requests<3,>=2->langchain-community) (2023.7.22)\n",
      "Requirement already satisfied: anyio in /Users/heyjohnis/anaconda3/lib/python3.11/site-packages (from httpx<1,>=0.23.0->langsmith<0.3,>=0.1.125->langchain-community) (3.5.0)\n",
      "Requirement already satisfied: httpcore==1.* in /Users/heyjohnis/anaconda3/lib/python3.11/site-packages (from httpx<1,>=0.23.0->langsmith<0.3,>=0.1.125->langchain-community) (1.0.7)\n",
      "Requirement already satisfied: h11<0.15,>=0.13 in /Users/heyjohnis/anaconda3/lib/python3.11/site-packages (from httpcore==1.*->httpx<1,>=0.23.0->langsmith<0.3,>=0.1.125->langchain-community) (0.14.0)\n",
      "Requirement already satisfied: jsonpointer>=1.9 in /Users/heyjohnis/anaconda3/lib/python3.11/site-packages (from jsonpatch<2.0,>=1.33->langchain-core<0.4.0,>=0.3.27->langchain-community) (2.1)\n",
      "Requirement already satisfied: annotated-types>=0.6.0 in /Users/heyjohnis/anaconda3/lib/python3.11/site-packages (from pydantic<3.0.0,>=2.7.4->langchain<0.4.0,>=0.3.13->langchain-community) (0.7.0)\n",
      "Requirement already satisfied: pydantic-core==2.27.2 in /Users/heyjohnis/anaconda3/lib/python3.11/site-packages (from pydantic<3.0.0,>=2.7.4->langchain<0.4.0,>=0.3.13->langchain-community) (2.27.2)\n",
      "Requirement already satisfied: mypy-extensions>=0.3.0 in /Users/heyjohnis/anaconda3/lib/python3.11/site-packages (from typing-inspect<1,>=0.4.0->dataclasses-json<0.7,>=0.5.7->langchain-community) (0.4.3)\n",
      "Requirement already satisfied: sniffio>=1.1 in /Users/heyjohnis/anaconda3/lib/python3.11/site-packages (from anyio->httpx<1,>=0.23.0->langsmith<0.3,>=0.1.125->langchain-community) (1.2.0)\n",
      "Note: you may need to restart the kernel to use updated packages.\n"
     ]
    }
   ],
   "source": [
    "%pip install langchain-openai\n",
    "%pip install python-dotenv langchain-upstage #upstage.ai\n",
    "%pip install langchain-community #ollama"
   ]
  },
  {
   "cell_type": "code",
   "execution_count": 11,
   "metadata": {},
   "outputs": [
    {
     "data": {
      "text/plain": [
       "True"
      ]
     },
     "execution_count": 11,
     "metadata": {},
     "output_type": "execute_result"
    }
   ],
   "source": [
    "from dotenv import load_dotenv\n",
    "\n",
    "load_dotenv()"
   ]
  },
  {
   "cell_type": "code",
   "execution_count": 12,
   "metadata": {},
   "outputs": [],
   "source": [
    "#from langchain_openai import ChatOpenAI \n",
    "from langchain_upstage import ChatUpstage\n",
    "llm = ChatUpstage()"
   ]
  },
  {
   "cell_type": "code",
   "execution_count": 3,
   "metadata": {},
   "outputs": [
    {
     "data": {
      "text/plain": [
       "AIMessage(content='오늘은 기분이 좋아요! 여러분은 어떻게 지내고 계신가요?', additional_kwargs={'refusal': None}, response_metadata={'token_usage': {'completion_tokens': 14, 'prompt_tokens': 14, 'total_tokens': 28, 'completion_tokens_details': None, 'prompt_tokens_details': None}, 'model_name': 'solar-mini-240612', 'system_fingerprint': None, 'finish_reason': 'stop', 'logprobs': None}, id='run-949ec4b9-c924-4ba2-930a-7574935a37f3-0', usage_metadata={'input_tokens': 14, 'output_tokens': 14, 'total_tokens': 28, 'input_token_details': {}, 'output_token_details': {}})"
      ]
     },
     "execution_count": 3,
     "metadata": {},
     "output_type": "execute_result"
    }
   ],
   "source": [
    "llm.invoke(\"오늘은 어때?\")"
   ]
  },
  {
   "cell_type": "code",
   "execution_count": null,
   "metadata": {},
   "outputs": [],
   "source": []
  }
 ],
 "metadata": {
  "kernelspec": {
   "display_name": "base",
   "language": "python",
   "name": "python3"
  },
  "language_info": {
   "codemirror_mode": {
    "name": "ipython",
    "version": 3
   },
   "file_extension": ".py",
   "mimetype": "text/x-python",
   "name": "python",
   "nbconvert_exporter": "python",
   "pygments_lexer": "ipython3",
   "version": "3.11.4"
  }
 },
 "nbformat": 4,
 "nbformat_minor": 2
}
